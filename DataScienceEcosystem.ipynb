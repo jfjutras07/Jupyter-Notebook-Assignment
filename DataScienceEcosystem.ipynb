{
 "cells": [
  {
   "cell_type": "markdown",
   "id": "4df3ed5d-aea1-4d72-8bcc-11b92bbdc3fb",
   "metadata": {},
   "source": [
    "# Data Science Tools and Ecosystem"
   ]
  },
  {
   "cell_type": "markdown",
   "id": "e053392f-317c-408b-872d-caa5de7324f2",
   "metadata": {},
   "source": [
    "_In this notebook, Data Science Tools and Ecosystem are summarized._"
   ]
  },
  {
   "cell_type": "markdown",
   "id": "4b560004-9951-4ee6-ad24-17e30211630a",
   "metadata": {},
   "source": [
    "Some of the popular languages that Data Scientists use are:\n",
    "\n",
    "1. Python\n",
    "2. R\n",
    "3. SQL"
   ]
  },
  {
   "cell_type": "markdown",
   "id": "405c00f8-0640-49fd-a58f-96269c191e07",
   "metadata": {},
   "source": [
    "Some of the commonly used libraries used by Data Scientists include:\n",
    "\n",
    "- Pandas\n",
    "- NumPy\n",
    "- ggplot2"
   ]
  },
  {
   "cell_type": "markdown",
   "id": "6a1f415b-b020-4602-8a22-2fccfa2654e3",
   "metadata": {},
   "source": [
    "|   **Data Science Tools**   |\n",
    "|----------------------------|\n",
    "|      Jupyter Notebook      |\n",
    "|          RStudio           |\n",
    "|        Apache Spark        |"
   ]
  },
  {
   "cell_type": "markdown",
   "id": "23a369d6-e9bf-4306-a913-66b237794e6e",
   "metadata": {},
   "source": [
    "### Below are a few examples of evaluating arithmetic expressions in Python\n"
   ]
  },
  {
   "cell_type": "code",
   "execution_count": 2,
   "id": "824b24d6-64d8-403f-bedc-9eaa10857d3e",
   "metadata": {},
   "outputs": [
    {
     "data": {
      "text/plain": [
       "17"
      ]
     },
     "execution_count": 2,
     "metadata": {},
     "output_type": "execute_result"
    }
   ],
   "source": [
    "#This is a simple arithmetic expression to multiply then add integers\n",
    "\n",
    "(3*4)+5"
   ]
  },
  {
   "cell_type": "code",
   "execution_count": 3,
   "id": "1b3fff84-e560-4da7-afb0-eb392738340c",
   "metadata": {},
   "outputs": [
    {
     "data": {
      "text/plain": [
       "3.3333333333333335"
      ]
     },
     "execution_count": 3,
     "metadata": {},
     "output_type": "execute_result"
    }
   ],
   "source": [
    "#This will convert 200 minutes to hours by dividing by 60\n",
    "\n",
    "200/60"
   ]
  },
  {
   "cell_type": "markdown",
   "id": "3f131ace-dfcd-48e6-b6d7-65103b12b9d7",
   "metadata": {},
   "source": [
    "**Objectives:**\n",
    "\n",
    "- List some of the popular languages used by data scientists\n",
    "- List some of the commonly used libraries in data science\n",
    "- Create a table with common data science tools\n",
    "- Perform basic arithmetic operations"
   ]
  },
  {
   "cell_type": "markdown",
   "id": "8040e3b4-eddf-4185-9f11-c4781e246ead",
   "metadata": {},
   "source": [
    "## Author\n",
    "\n",
    "Jean-François Jutras"
   ]
  },
  {
   "cell_type": "code",
   "execution_count": null,
   "id": "5c87ba47-02bd-4b37-8783-fd8027ca8400",
   "metadata": {},
   "outputs": [],
   "source": []
  }
 ],
 "metadata": {
  "kernelspec": {
   "display_name": "Python 3 (ipykernel)",
   "language": "python",
   "name": "python3"
  },
  "language_info": {
   "codemirror_mode": {
    "name": "ipython",
    "version": 3
   },
   "file_extension": ".py",
   "mimetype": "text/x-python",
   "name": "python",
   "nbconvert_exporter": "python",
   "pygments_lexer": "ipython3",
   "version": "3.12.8"
  }
 },
 "nbformat": 4,
 "nbformat_minor": 5
}
